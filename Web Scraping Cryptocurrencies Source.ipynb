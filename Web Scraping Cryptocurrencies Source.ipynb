{
 "cells": [
  {
   "cell_type": "markdown",
   "metadata": {},
   "source": [
    "# Web scraping data on cryptocurrencies"
   ]
  },
  {
   "cell_type": "code",
   "execution_count": 164,
   "metadata": {},
   "outputs": [],
   "source": [
    "#May have to update attrs in future\n",
    "table = soup.find('table', attrs={'class':'chakra-table css-1bveei3'})\n",
    "table_rows = table.find_all('tr')\n",
    "\n",
    "\n",
    "coin_market = []\n",
    "\n",
    "\n",
    "for row in table_rows:\n",
    "    data = row.find_all('td')\n",
    "    final_row = [row.text.strip() for row in data if row.text.strip()]\n",
    "    \n",
    "    if row2:\n",
    "        coin_market.append(final_row)"
   ]
  },
  {
   "cell_type": "code",
   "execution_count": 114,
   "metadata": {
    "scrolled": true
   },
   "outputs": [
    {
     "data": {
      "text/plain": [
       "['2',\n",
       " 'EthereumETH',\n",
       " '$3,831.19$3,831.19.css-84xzn5{color:var(--chakra-colors-up);line-height:16px;font-weight:var(--chakra-fontWeights-semibold);}+1.02%',\n",
       " '.css-sma3iu{color:var(--chakra-colors-up);font-weight:var(--chakra-fontWeights-semibold);}+1.02%',\n",
       " '$14.01 B',\n",
       " '$452.82 B',\n",
       " 'Trade']"
      ]
     },
     "execution_count": 114,
     "metadata": {},
     "output_type": "execute_result"
    }
   ],
   "source": [
    "#View element in coin_market list\n",
    "coin_market[2]"
   ]
  },
  {
   "cell_type": "code",
   "execution_count": 165,
   "metadata": {},
   "outputs": [
    {
     "data": {
      "text/html": [
       "<div>\n",
       "<style scoped>\n",
       "    .dataframe tbody tr th:only-of-type {\n",
       "        vertical-align: middle;\n",
       "    }\n",
       "\n",
       "    .dataframe tbody tr th {\n",
       "        vertical-align: top;\n",
       "    }\n",
       "\n",
       "    .dataframe thead th {\n",
       "        text-align: right;\n",
       "    }\n",
       "</style>\n",
       "<table border=\"1\" class=\"dataframe\">\n",
       "  <thead>\n",
       "    <tr style=\"text-align: right;\">\n",
       "      <th></th>\n",
       "      <th>Rank</th>\n",
       "      <th>Name</th>\n",
       "      <th>Price</th>\n",
       "      <th>24H_CHANGE</th>\n",
       "      <th>24H_VOLUME</th>\n",
       "      <th>Market_Cap</th>\n",
       "      <th>u</th>\n",
       "      <th>o</th>\n",
       "      <th>k</th>\n",
       "    </tr>\n",
       "  </thead>\n",
       "  <tbody>\n",
       "    <tr>\n",
       "      <th>0</th>\n",
       "      <td>None</td>\n",
       "      <td>None</td>\n",
       "      <td>None</td>\n",
       "      <td>None</td>\n",
       "      <td>None</td>\n",
       "      <td>None</td>\n",
       "      <td>None</td>\n",
       "      <td>None</td>\n",
       "      <td>None</td>\n",
       "    </tr>\n",
       "    <tr>\n",
       "      <th>1</th>\n",
       "      <td>.css-k008qs{display:-webkit-box;display:-webki...</td>\n",
       "      <td>1</td>\n",
       "      <td>.css-4xjgmj{display:-webkit-box;display:-webki...</td>\n",
       "      <td>.css-b1ilzc{display:none;}@media screen and (m...</td>\n",
       "      <td>.css-1a4ozgv{font-weight:var(--chakra-fontWeig...</td>\n",
       "      <td>$44.10 B</td>\n",
       "      <td>$809.96 B</td>\n",
       "      <td>.css-1pffz1z{display:none;text-align:right;}@m...</td>\n",
       "      <td>.css-9bmzc3{display:-webkit-inline-box;display...</td>\n",
       "    </tr>\n",
       "    <tr>\n",
       "      <th>2</th>\n",
       "      <td>2</td>\n",
       "      <td>EthereumETH</td>\n",
       "      <td>$3,302.77$3,302.77-2.14%</td>\n",
       "      <td>-2.14%</td>\n",
       "      <td>$15.22 B</td>\n",
       "      <td>$390.60 B</td>\n",
       "      <td>Trade</td>\n",
       "      <td>None</td>\n",
       "      <td>None</td>\n",
       "    </tr>\n",
       "    <tr>\n",
       "      <th>3</th>\n",
       "      <td>3</td>\n",
       "      <td>BNBBNB</td>\n",
       "      <td>$487.69$487.69.css-1348rpl{font-weight:var(--c...</td>\n",
       "      <td>.css-jgju88{font-weight:var(--chakra-fontWeigh...</td>\n",
       "      <td>$4.17 B</td>\n",
       "      <td>$80.68 B</td>\n",
       "      <td>Trade</td>\n",
       "      <td>None</td>\n",
       "      <td>None</td>\n",
       "    </tr>\n",
       "    <tr>\n",
       "      <th>4</th>\n",
       "      <td>4</td>\n",
       "      <td>TetherUSDT</td>\n",
       "      <td>$1.01$1.01-0.00%</td>\n",
       "      <td>-0.00%</td>\n",
       "      <td>$63.90 B</td>\n",
       "      <td>$78.43 B</td>\n",
       "      <td>Trade</td>\n",
       "      <td>None</td>\n",
       "      <td>None</td>\n",
       "    </tr>\n",
       "  </tbody>\n",
       "</table>\n",
       "</div>"
      ],
      "text/plain": [
       "                                                Rank         Name  \\\n",
       "0                                               None         None   \n",
       "1  .css-k008qs{display:-webkit-box;display:-webki...            1   \n",
       "2                                                  2  EthereumETH   \n",
       "3                                                  3       BNBBNB   \n",
       "4                                                  4   TetherUSDT   \n",
       "\n",
       "                                               Price  \\\n",
       "0                                               None   \n",
       "1  .css-4xjgmj{display:-webkit-box;display:-webki...   \n",
       "2                           $3,302.77$3,302.77-2.14%   \n",
       "3  $487.69$487.69.css-1348rpl{font-weight:var(--c...   \n",
       "4                                   $1.01$1.01-0.00%   \n",
       "\n",
       "                                          24H_CHANGE  \\\n",
       "0                                               None   \n",
       "1  .css-b1ilzc{display:none;}@media screen and (m...   \n",
       "2                                             -2.14%   \n",
       "3  .css-jgju88{font-weight:var(--chakra-fontWeigh...   \n",
       "4                                             -0.00%   \n",
       "\n",
       "                                          24H_VOLUME Market_Cap          u  \\\n",
       "0                                               None       None       None   \n",
       "1  .css-1a4ozgv{font-weight:var(--chakra-fontWeig...   $44.10 B  $809.96 B   \n",
       "2                                           $15.22 B  $390.60 B      Trade   \n",
       "3                                            $4.17 B   $80.68 B      Trade   \n",
       "4                                           $63.90 B   $78.43 B      Trade   \n",
       "\n",
       "                                                   o  \\\n",
       "0                                               None   \n",
       "1  .css-1pffz1z{display:none;text-align:right;}@m...   \n",
       "2                                               None   \n",
       "3                                               None   \n",
       "4                                               None   \n",
       "\n",
       "                                                   k  \n",
       "0                                               None  \n",
       "1  .css-9bmzc3{display:-webkit-inline-box;display...  \n",
       "2                                               None  \n",
       "3                                               None  \n",
       "4                                               None  "
      ]
     },
     "execution_count": 165,
     "metadata": {},
     "output_type": "execute_result"
    }
   ],
   "source": [
    "#Store & view dataframe\n",
    "df = pd.DataFrame(coin_market, columns=[\"Rank\", \"Name\", \"Price\", \"24H_CHANGE\", '24H_VOLUME', \"Market_Cap\",'u','o','k'])\n",
    "df.head(5)"
   ]
  },
  {
   "cell_type": "code",
   "execution_count": null,
   "metadata": {},
   "outputs": [],
   "source": [
    "#Drop unwanted columns\n",
    "df.drop(['u','o','k'], axis = 1, inplace = True)\n",
    "df.drop([0, 1, 3], axis = 0, inplace = True)"
   ]
  },
  {
   "cell_type": "code",
   "execution_count": 153,
   "metadata": {},
   "outputs": [
    {
     "data": {
      "text/html": [
       "<div>\n",
       "<style scoped>\n",
       "    .dataframe tbody tr th:only-of-type {\n",
       "        vertical-align: middle;\n",
       "    }\n",
       "\n",
       "    .dataframe tbody tr th {\n",
       "        vertical-align: top;\n",
       "    }\n",
       "\n",
       "    .dataframe thead th {\n",
       "        text-align: right;\n",
       "    }\n",
       "</style>\n",
       "<table border=\"1\" class=\"dataframe\">\n",
       "  <thead>\n",
       "    <tr style=\"text-align: right;\">\n",
       "      <th></th>\n",
       "      <th>Rank</th>\n",
       "      <th>Name</th>\n",
       "      <th>Price</th>\n",
       "      <th>24H_CHANGE</th>\n",
       "      <th>24H_VOLUME</th>\n",
       "      <th>Market_Cap</th>\n",
       "    </tr>\n",
       "  </thead>\n",
       "  <tbody>\n",
       "    <tr>\n",
       "      <th>2</th>\n",
       "      <td>2</td>\n",
       "      <td>EthereumETH</td>\n",
       "      <td>$3,302.77$3,302.77-2.14%</td>\n",
       "      <td>-2.14%</td>\n",
       "      <td>$15.22 B</td>\n",
       "      <td>$390.60 B</td>\n",
       "    </tr>\n",
       "    <tr>\n",
       "      <th>4</th>\n",
       "      <td>4</td>\n",
       "      <td>TetherUSDT</td>\n",
       "      <td>$1.01$1.01-0.00%</td>\n",
       "      <td>-0.00%</td>\n",
       "      <td>$63.90 B</td>\n",
       "      <td>$78.43 B</td>\n",
       "    </tr>\n",
       "    <tr>\n",
       "      <th>5</th>\n",
       "      <td>5</td>\n",
       "      <td>SolanaSOL</td>\n",
       "      <td>$149.70$149.70-0.60%</td>\n",
       "      <td>-0.60%</td>\n",
       "      <td>$2.21 B</td>\n",
       "      <td>$46.55 B</td>\n",
       "    </tr>\n",
       "  </tbody>\n",
       "</table>\n",
       "</div>"
      ],
      "text/plain": [
       "  Rank         Name                     Price 24H_CHANGE 24H_VOLUME Market_Cap\n",
       "2    2  EthereumETH  $3,302.77$3,302.77-2.14%     -2.14%   $15.22 B  $390.60 B\n",
       "4    4   TetherUSDT          $1.01$1.01-0.00%     -0.00%   $63.90 B   $78.43 B\n",
       "5    5    SolanaSOL      $149.70$149.70-0.60%     -0.60%    $2.21 B   $46.55 B"
      ]
     },
     "execution_count": 153,
     "metadata": {},
     "output_type": "execute_result"
    }
   ],
   "source": [
    "#View final dataframe\n",
    "df.head(3)"
   ]
  },
  {
   "cell_type": "code",
   "execution_count": 154,
   "metadata": {},
   "outputs": [],
   "source": [
    "#Export dataframe to CSV\n",
    "df.to_csv('Coin Market.csv')"
   ]
  }
 ],
 "metadata": {
  "kernelspec": {
   "display_name": "Python 3",
   "language": "python",
   "name": "python3"
  },
  "language_info": {
   "codemirror_mode": {
    "name": "ipython",
    "version": 3
   },
   "file_extension": ".py",
   "mimetype": "text/x-python",
   "name": "python",
   "nbconvert_exporter": "python",
   "pygments_lexer": "ipython3",
   "version": "3.7.6"
  }
 },
 "nbformat": 4,
 "nbformat_minor": 4
}
