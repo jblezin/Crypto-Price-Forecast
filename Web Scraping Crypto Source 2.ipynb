{
 "cells": [
  {
   "cell_type": "markdown",
   "metadata": {},
   "source": [
    "# Web Scraping Crypto Source & merge Kaggle dataset"
   ]
  },
  {
   "cell_type": "code",
   "execution_count": null,
   "metadata": {},
   "outputs": [],
   "source": [
    "import pandas as pd\n",
    "\n",
    "#Read in files\n",
    "asset_details = pd.read_csv('/content/drive/MyDrive/Crypto Forecasting/asset_details.csv')\n",
    "supplemental_train = pd.read_csv('/content/drive/MyDrive/Crypto Forecasting/supplemental_train.csv')\n",
    "train = pd.read_csv('/content/drive/MyDrive/Crypto Forecasting/train.csv')"
   ]
  },
  {
   "cell_type": "code",
   "execution_count": null,
   "metadata": {},
   "outputs": [],
   "source": [
    "#Create column for url scraper\n",
    "asset_details['crypto_url'] = asset_details['Asset_Name']\n",
    "\n",
    "#Convert column for url scraper\n",
    "asset_details['crypto_url'].replace(to_replace = ['Bitcoin Cash', 'Binance Coin', 'EOS.IO', \n",
    "                                                  'Ethereum Classic', 'Ethereum', 'Litecoin',\n",
    "                                                  'Monero', 'TRON', 'Stellar', 'Cardano', 'IOTA',\n",
    "                                                  'Maker', 'Dogecoin', 'Bitcoin'],\n",
    "                                    value = ['bitcoin-cash', 'binance-usd', 'eos', \n",
    "                                             'ethereum-classic','ethereum', 'litecoin',\n",
    "                                             'monero', 'tron', 'stellar', 'cardano', 'iota',\n",
    "                                             'maker', 'dogecoin', 'bitcoin'],\n",
    "                                    inplace = True\n",
    "                                   )\n",
    "#Create list for scraper\n",
    "Coin_Ticker = list(asset_details['crypto_url'])"
   ]
  },
  {
   "cell_type": "code",
   "execution_count": null,
   "metadata": {},
   "outputs": [],
   "source": [
    "#Combine both datasets\n",
    "concat_supp_train = pd.concat([supplemental_train, train],\n",
    "                              ignore_index = True)"
   ]
  },
  {
   "cell_type": "code",
   "execution_count": null,
   "metadata": {},
   "outputs": [],
   "source": [
    "#Merge asset details on asset tags\n",
    "asset_supp_train = pd.merge(concat_supp_train, asset_details , on = ['Asset_ID'])"
   ]
  },
  {
   "cell_type": "code",
   "execution_count": null,
   "metadata": {},
   "outputs": [],
   "source": [
    "#Create & convert new column\n",
    "asset_supp_train['Time_stamp'] = asset_supp_train['timestamp'].astype('int')\n",
    "asset_supp_train['Time_stamp'] = asset_supp_train['Time_stamp'].astype('datetime64[s]')\n",
    "asset_supp_train.head(2)"
   ]
  },
  {
   "cell_type": "code",
   "execution_count": null,
   "metadata": {},
   "outputs": [],
   "source": [
    "#Convert trading prices to USD\n",
    "asset_supp_train['Open_USD']  = asset_supp_train['Open'].round(2)\n",
    "asset_supp_train['High_USD']  = asset_supp_train['High'].round(2)\n",
    "asset_supp_train['Low_USD']   = asset_supp_train['Low'].round(2)\n",
    "asset_supp_train['Close_USD'] = asset_supp_train['Close'].round(2)\n",
    "\n",
    "#Convert volume into millions\n",
    "asset_supp_train['Volume_in_Millions'] = asset_supp_train['Volume'] / 1000000\n",
    "\n",
    "#Check/drop any duplicate rowsp\n",
    "asset_supp_train.drop_duplicates()"
   ]
  },
  {
   "cell_type": "code",
   "execution_count": null,
   "metadata": {},
   "outputs": [],
   "source": [
    "#Function to scrape data on coins in wallet\n",
    "def Asset_Name(wallet):\n",
    "   \n",
    "    crypto_data = pd.DataFrame()\n",
    "    \n",
    "    for coin in wallet:\n",
    "        soup                = BeautifulSoup(HTML.text,'html.parser')\n",
    "        coin_data           = soup.find_all(\"p\",{\"class\":[]})\n",
    "\n",
    "        #Crypto Assest Data\n",
    "        Market_Cap_USD      = coin_data[0].text\n",
    "        One_Day_Volume_USD  = coin_data[1].text\n",
    "        Circulating_Supply  = coin_data[2].text\n",
    "        Max_Supply          = coin_data[3].text\n",
    "      \n",
    "\n",
    "        data  = {\n",
    "                 \"crypto_url\"          : Coin\n",
    "                ,\"Market_Cap_USD\"      : Market_Cap_USD\n",
    "                ,\"One_Day_Volume_USD\"  : One_Day_Volume_USD\n",
    "                ,\"Circulating_Supply\"  : Circulating_Supply\n",
    "                ,\"Max_Supply\"          : Max_Supply\n",
    "            }\n",
    "\n",
    "        crypto_data = crypto_data.append(data, ignore_index=True) \n",
    "                \n",
    "    return crypto_data"
   ]
  },
  {
   "cell_type": "code",
   "execution_count": null,
   "metadata": {},
   "outputs": [],
   "source": [
    "#Retrieve data on coins\n",
    "Crypto_Data = Asset_Name(Coin_Ticker)\n",
    "Crypto_Data"
   ]
  },
  {
   "cell_type": "code",
   "execution_count": null,
   "metadata": {},
   "outputs": [],
   "source": [
    "#Merge Crypto Data with Kaggle dataframe\n",
    "Crypto_coin_asset_supp_train = pd.merge(coin_asset_supp_train, Crypto_Data, how = 'left')"
   ]
  }
 ],
 "metadata": {
  "kernelspec": {
   "display_name": "Python 3",
   "language": "python",
   "name": "python3"
  },
  "language_info": {
   "codemirror_mode": {
    "name": "ipython",
    "version": 3
   },
   "file_extension": ".py",
   "mimetype": "text/x-python",
   "name": "python",
   "nbconvert_exporter": "python",
   "pygments_lexer": "ipython3",
   "version": "3.7.6"
  }
 },
 "nbformat": 4,
 "nbformat_minor": 4
}
